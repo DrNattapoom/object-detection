{
  "cells": [
    {
      "cell_type": "markdown",
      "metadata": {
        "id": "duxtiYBxb1Gu"
      },
      "source": [
        "# Object Detection: VOC Dataset"
      ]
    },
    {
      "cell_type": "markdown",
      "metadata": {
        "id": "z2NFzR3OcddM"
      },
      "source": [
        "## Import dependencies"
      ]
    },
    {
      "cell_type": "code",
      "execution_count": null,
      "metadata": {
        "id": "olmNtDWgbvX2",
        "vscode": {
          "languageId": "python"
        }
      },
      "outputs": [],
      "source": [
        "import cv2\n",
        "import numpy as np\n",
        "import tensorflow as tf\n",
        "import tensorflow_datasets as tfds\n",
        "import matplotlib.pyplot as plt"
      ]
    },
    {
      "cell_type": "markdown",
      "metadata": {
        "id": "lWy0aBZ9ciwI"
      },
      "source": [
        "## Basic Setup"
      ]
    },
    {
      "attachments": {},
      "cell_type": "markdown",
      "metadata": {
        "id": "gQdFdJXJc_Uo"
      },
      "source": [
        "### Load Dataset"
      ]
    },
    {
      "cell_type": "code",
      "execution_count": null,
      "metadata": {
        "colab": {
          "base_uri": "https://localhost:8080/"
        },
        "id": "vSypf2w4ciUm",
        "outputId": "af02d086-c80a-40b2-d054-ad2b59dfe9c1",
        "vscode": {
          "languageId": "python"
        }
      },
      "outputs": [
        {
          "name": "stderr",
          "output_type": "stream",
          "text": [
            "WARNING:absl:`TensorInfo.dtype` is deprecated. Please change your code to use NumPy with the field `TensorInfo.np_dtype` or use TensorFlow with the field `TensorInfo.tf_dtype`.\n",
            "WARNING:absl:You use TensorFlow DType <dtype: 'float32'> in tfds.features This will soon be deprecated in favor of NumPy DTypes. In the meantime it was converted to float32.\n",
            "WARNING:absl:`TensorInfo.dtype` is deprecated. Please change your code to use NumPy with the field `TensorInfo.np_dtype` or use TensorFlow with the field `TensorInfo.tf_dtype`.\n",
            "WARNING:absl:You use TensorFlow DType <dtype: 'bool'> in tfds.features This will soon be deprecated in favor of NumPy DTypes. In the meantime it was converted to bool.\n",
            "WARNING:absl:`TensorInfo.dtype` is deprecated. Please change your code to use NumPy with the field `TensorInfo.np_dtype` or use TensorFlow with the field `TensorInfo.tf_dtype`.\n",
            "WARNING:absl:`TensorInfo.dtype` is deprecated. Please change your code to use NumPy with the field `TensorInfo.np_dtype` or use TensorFlow with the field `TensorInfo.tf_dtype`.\n",
            "WARNING:absl:You use TensorFlow DType <dtype: 'int64'> in tfds.features This will soon be deprecated in favor of NumPy DTypes. In the meantime it was converted to int64.\n",
            "WARNING:absl:`TensorInfo.dtype` is deprecated. Please change your code to use NumPy with the field `TensorInfo.np_dtype` or use TensorFlow with the field `TensorInfo.tf_dtype`.\n",
            "WARNING:absl:`TensorInfo.dtype` is deprecated. Please change your code to use NumPy with the field `TensorInfo.np_dtype` or use TensorFlow with the field `TensorInfo.tf_dtype`.\n",
            "WARNING:absl:`TensorInfo.dtype` is deprecated. Please change your code to use NumPy with the field `TensorInfo.np_dtype` or use TensorFlow with the field `TensorInfo.tf_dtype`.\n"
          ]
        },
        {
          "data": {
            "text/plain": [
              "(9963,\n",
              " tfds.core.DatasetInfo(\n",
              "     name='voc',\n",
              "     full_name='voc/2007/4.0.0',\n",
              "     description=\"\"\"\n",
              "     This dataset contains the data from the PASCAL Visual Object Classes Challenge,\n",
              "     corresponding to the Classification and Detection competitions.\n",
              "     \n",
              "     In the Classification competition, the goal is to predict the set of labels\n",
              "     contained in the image, while in the Detection competition the goal is to\n",
              "     predict the bounding box and label of each individual object.\n",
              "     WARNING: As per the official dataset, the test set of VOC2012 does not contain\n",
              "     annotations.\n",
              "     \"\"\",\n",
              "     config_description=\"\"\"\n",
              "     This dataset contains the data from the PASCAL Visual Object Classes Challenge\n",
              "     2007, a.k.a. VOC2007.\n",
              "     \n",
              "     A total of 9963 images are included in this dataset, where each image\n",
              "     contains a set of objects, out of 20 different classes, making a total of\n",
              "     24640 annotated objects.\n",
              "     \n",
              "     \"\"\",\n",
              "     homepage='http://host.robots.ox.ac.uk/pascal/VOC/voc2007/',\n",
              "     data_path='/root/tensorflow_datasets/voc/2007/4.0.0',\n",
              "     file_format=tfrecord,\n",
              "     download_size=868.85 MiB,\n",
              "     dataset_size=837.73 MiB,\n",
              "     features=FeaturesDict({\n",
              "         'image': Image(shape=(None, None, 3), dtype=uint8),\n",
              "         'image/filename': Text(shape=(), dtype=string),\n",
              "         'labels': Sequence(ClassLabel(shape=(), dtype=int64, num_classes=20)),\n",
              "         'labels_no_difficult': Sequence(ClassLabel(shape=(), dtype=int64, num_classes=20)),\n",
              "         'objects': Sequence({\n",
              "             'bbox': BBoxFeature(shape=(4,), dtype=float32),\n",
              "             'is_difficult': bool,\n",
              "             'is_truncated': bool,\n",
              "             'label': ClassLabel(shape=(), dtype=int64, num_classes=20),\n",
              "             'pose': ClassLabel(shape=(), dtype=int64, num_classes=5),\n",
              "         }),\n",
              "     }),\n",
              "     supervised_keys=None,\n",
              "     disable_shuffling=False,\n",
              "     splits={\n",
              "         'test': <SplitInfo num_examples=4952, num_shards=4>,\n",
              "         'train': <SplitInfo num_examples=2501, num_shards=2>,\n",
              "         'validation': <SplitInfo num_examples=2510, num_shards=2>,\n",
              "     },\n",
              "     citation=\"\"\"@misc{pascal-voc-2007,\n",
              "     \tauthor = \"Everingham, M. and Van~Gool, L. and Williams, C. K. I. and Winn, J. and Zisserman, A.\",\n",
              "     \ttitle = \"The {PASCAL} {V}isual {O}bject {C}lasses {C}hallenge 2007 {(VOC2007)} {R}esults\",\n",
              "     \thowpublished = \"http://www.pascal-network.org/challenges/VOC/voc2007/workshop/index.html\"}\"\"\",\n",
              " ))"
            ]
          },
          "execution_count": 5,
          "metadata": {},
          "output_type": "execute_result"
        }
      ],
      "source": [
        "voc, info = tfds.load(\n",
        "    'voc', \n",
        "    split = 'all', \n",
        "    with_info = True\n",
        ")\n",
        "len(voc), info"
      ]
    },
    {
      "cell_type": "markdown",
      "metadata": {
        "id": "XfsurNQ4M8Ss"
      },
      "source": [
        "### Define utilities"
      ]
    },
    {
      "cell_type": "code",
      "execution_count": null,
      "metadata": {
        "id": "rpJg-vF5M_5U",
        "vscode": {
          "languageId": "python"
        }
      },
      "outputs": [],
      "source": [
        "def partition(\n",
        "    dataset: tf.data.Dataset, train: float = 0.8, test: float = 0.1, val: float = 0.1,\n",
        "    shuffle: bool = True, shuffle_size: int = 1000, seed: int = 101\n",
        ") -> tuple:\n",
        "    assert(train + test + val == 1)\n",
        "\n",
        "    if shuffle:\n",
        "        dataset = dataset.shuffle(shuffle_size, seed)\n",
        "\n",
        "    dataset_size = len(dataset)\n",
        "    train_size = int(train * dataset_size)\n",
        "    val_size = int(val * dataset_size)\n",
        "\n",
        "    dataset_train = dataset.take(train_size)\n",
        "    dataset_test = dataset.skip(train_size).skip(val_size)\n",
        "    dataset_val = dataset.skip(train_size).take(val_size)\n",
        "\n",
        "    return dataset_train, dataset_test, dataset_val"
      ]
    },
    {
      "cell_type": "code",
      "execution_count": null,
      "metadata": {
        "id": "Lf_6YuEmtC3w",
        "vscode": {
          "languageId": "python"
        }
      },
      "outputs": [],
      "source": [
        "def preprocess_data(data: dict, image_size: int = 256) -> tuple:\n",
        "    image = data['image']\n",
        "    bbox = data['objects']['bbox'][0]\n",
        "    label = data['objects']['label'][0]\n",
        "    # resize the image\n",
        "    image = tf.image.resize(image, (image_size, image_size))    \n",
        "    # normalize the pixel values\n",
        "    image = image / 255.0\n",
        "    # one-hot labels\n",
        "    label = tf.one_hot(label, depth = 20)\n",
        "    return image, (label, bbox)"
      ]
    },
    {
      "cell_type": "code",
      "execution_count": null,
      "metadata": {
        "id": "zrmz_Q4vr1e2",
        "vscode": {
          "languageId": "python"
        }
      },
      "outputs": [],
      "source": [
        "def pipeline(data: tf.data.Dataset, batch_size: int = 32, image_size: int = 256) -> tf.data.Dataset:\n",
        "    AUTOTUNE = tf.data.experimental.AUTOTUNE\n",
        "    data = data.map(lambda entry: preprocess_data(entry, image_size), num_parallel_calls = AUTOTUNE)\n",
        "    data = data.shuffle(len(data))\n",
        "    data = data.padded_batch(batch_size)\n",
        "    data = data.prefetch(AUTOTUNE)\n",
        "    return data"
      ]
    },
    {
      "cell_type": "markdown",
      "metadata": {
        "id": "oUKcQvfL7FfN"
      },
      "source": [
        "## Process Data"
      ]
    },
    {
      "cell_type": "markdown",
      "metadata": {
        "id": "S_9zXAIL7gPa"
      },
      "source": [
        "### Partition Datasets"
      ]
    },
    {
      "cell_type": "code",
      "execution_count": null,
      "metadata": {
        "id": "MYsdFhKENx4c",
        "vscode": {
          "languageId": "python"
        }
      },
      "outputs": [],
      "source": [
        "train, test, val = partition(voc)"
      ]
    },
    {
      "cell_type": "markdown",
      "metadata": {
        "id": "LvDGVb0g7lTF"
      },
      "source": [
        "### Create Data Pipeline"
      ]
    },
    {
      "cell_type": "code",
      "execution_count": null,
      "metadata": {
        "id": "ovoFtAjU7YvV",
        "vscode": {
          "languageId": "python"
        }
      },
      "outputs": [],
      "source": [
        "BATCH_SIZE = 32\n",
        "IMAGE_SIZE = 256\n",
        "\n",
        "train = pipeline(train, batch_size = BATCH_SIZE, image_size = IMAGE_SIZE)\n",
        "test = pipeline(test, batch_size = BATCH_SIZE, image_size = IMAGE_SIZE)\n",
        "val = pipeline(val, batch_size = BATCH_SIZE, image_size = IMAGE_SIZE)"
      ]
    },
    {
      "cell_type": "markdown",
      "metadata": {
        "id": "mFx1vUsG7r0e"
      },
      "source": [
        "## Build Neural Network Model"
      ]
    },
    {
      "cell_type": "markdown",
      "metadata": {
        "id": "ENDnyCVPA2JP"
      },
      "source": [
        "### Load the pre-trained VGG16 model"
      ]
    },
    {
      "cell_type": "code",
      "execution_count": null,
      "metadata": {
        "colab": {
          "base_uri": "https://localhost:8080/"
        },
        "id": "t0oGS3QxAuwT",
        "outputId": "2e6db4a7-120c-4f13-bfe8-51c1af0962e1",
        "vscode": {
          "languageId": "python"
        }
      },
      "outputs": [
        {
          "name": "stdout",
          "output_type": "stream",
          "text": [
            "Model: \"vgg16\"\n",
            "_________________________________________________________________\n",
            " Layer (type)                Output Shape              Param #   \n",
            "=================================================================\n",
            " input_1 (InputLayer)        [(None, None, None, 3)]   0         \n",
            "                                                                 \n",
            " block1_conv1 (Conv2D)       (None, None, None, 64)    1792      \n",
            "                                                                 \n",
            " block1_conv2 (Conv2D)       (None, None, None, 64)    36928     \n",
            "                                                                 \n",
            " block1_pool (MaxPooling2D)  (None, None, None, 64)    0         \n",
            "                                                                 \n",
            " block2_conv1 (Conv2D)       (None, None, None, 128)   73856     \n",
            "                                                                 \n",
            " block2_conv2 (Conv2D)       (None, None, None, 128)   147584    \n",
            "                                                                 \n",
            " block2_pool (MaxPooling2D)  (None, None, None, 128)   0         \n",
            "                                                                 \n",
            " block3_conv1 (Conv2D)       (None, None, None, 256)   295168    \n",
            "                                                                 \n",
            " block3_conv2 (Conv2D)       (None, None, None, 256)   590080    \n",
            "                                                                 \n",
            " block3_conv3 (Conv2D)       (None, None, None, 256)   590080    \n",
            "                                                                 \n",
            " block3_pool (MaxPooling2D)  (None, None, None, 256)   0         \n",
            "                                                                 \n",
            " block4_conv1 (Conv2D)       (None, None, None, 512)   1180160   \n",
            "                                                                 \n",
            " block4_conv2 (Conv2D)       (None, None, None, 512)   2359808   \n",
            "                                                                 \n",
            " block4_conv3 (Conv2D)       (None, None, None, 512)   2359808   \n",
            "                                                                 \n",
            " block4_pool (MaxPooling2D)  (None, None, None, 512)   0         \n",
            "                                                                 \n",
            " block5_conv1 (Conv2D)       (None, None, None, 512)   2359808   \n",
            "                                                                 \n",
            " block5_conv2 (Conv2D)       (None, None, None, 512)   2359808   \n",
            "                                                                 \n",
            " block5_conv3 (Conv2D)       (None, None, None, 512)   2359808   \n",
            "                                                                 \n",
            " block5_pool (MaxPooling2D)  (None, None, None, 512)   0         \n",
            "                                                                 \n",
            "=================================================================\n",
            "Total params: 14,714,688\n",
            "Trainable params: 14,714,688\n",
            "Non-trainable params: 0\n",
            "_________________________________________________________________\n"
          ]
        }
      ],
      "source": [
        "vgg = tf.keras.applications.VGG16(include_top = False)\n",
        "vgg.summary()"
      ]
    },
    {
      "cell_type": "markdown",
      "metadata": {
        "id": "FFmT-NUTA39Z"
      },
      "source": [
        "### Build our model"
      ]
    },
    {
      "cell_type": "code",
      "execution_count": null,
      "metadata": {
        "id": "i2NXArGnQHYz",
        "vscode": {
          "languageId": "python"
        }
      },
      "outputs": [],
      "source": [
        "def build_model(unfreezing: int = 5): \n",
        "    input_layer = tf.keras.layers.Input(shape = (IMAGE_SIZE, IMAGE_SIZE, 3))\n",
        "    # base model\n",
        "    vgg = tf.keras.applications.VGG16(include_top = False)\n",
        "    # freeze the convolutional base\n",
        "    for layer in vgg.layers[:-unfreezing]: layer.trainable = False\n",
        "    vgg = vgg(input_layer)\n",
        "    # classification: object category model\n",
        "    f = tf.keras.layers.GlobalMaxPooling2D()(vgg)\n",
        "    clf_in = tf.keras.layers.Dense(2048, activation = 'relu')(f)\n",
        "    clf_out = tf.keras.layers.Dense(20, activation = 'softmax')(clf_in)\n",
        "    # regression: bounding box model\n",
        "    g = tf.keras.layers.GlobalMaxPooling2D()(vgg)\n",
        "    reg_in = tf.keras.layers.Dense(2048, activation = 'relu')(g)\n",
        "    reg_out = tf.keras.layers.Dense(4, activation = 'sigmoid')(reg_in)\n",
        "    return tf.keras.Model(inputs = input_layer, outputs = (clf_out, reg_out))"
      ]
    },
    {
      "cell_type": "code",
      "execution_count": null,
      "metadata": {
        "colab": {
          "base_uri": "https://localhost:8080/"
        },
        "id": "kZUB4othQ52j",
        "outputId": "cd823616-69a6-4a43-ba4c-7b1bcc491b8e",
        "vscode": {
          "languageId": "python"
        }
      },
      "outputs": [
        {
          "name": "stdout",
          "output_type": "stream",
          "text": [
            "Model: \"model\"\n",
            "__________________________________________________________________________________________________\n",
            " Layer (type)                   Output Shape         Param #     Connected to                     \n",
            "==================================================================================================\n",
            " input_2 (InputLayer)           [(None, 256, 256, 3  0           []                               \n",
            "                                )]                                                                \n",
            "                                                                                                  \n",
            " vgg16 (Functional)             (None, None, None,   14714688    ['input_2[0][0]']                \n",
            "                                512)                                                              \n",
            "                                                                                                  \n",
            " global_max_pooling2d (GlobalMa  (None, 512)         0           ['vgg16[0][0]']                  \n",
            " xPooling2D)                                                                                      \n",
            "                                                                                                  \n",
            " global_max_pooling2d_1 (Global  (None, 512)         0           ['vgg16[0][0]']                  \n",
            " MaxPooling2D)                                                                                    \n",
            "                                                                                                  \n",
            " dense (Dense)                  (None, 2048)         1050624     ['global_max_pooling2d[0][0]']   \n",
            "                                                                                                  \n",
            " dense_2 (Dense)                (None, 2048)         1050624     ['global_max_pooling2d_1[0][0]'] \n",
            "                                                                                                  \n",
            " dense_1 (Dense)                (None, 20)           40980       ['dense[0][0]']                  \n",
            "                                                                                                  \n",
            " dense_3 (Dense)                (None, 4)            8196        ['dense_2[0][0]']                \n",
            "                                                                                                  \n",
            "==================================================================================================\n",
            "Total params: 16,865,112\n",
            "Trainable params: 9,229,848\n",
            "Non-trainable params: 7,635,264\n",
            "__________________________________________________________________________________________________\n"
          ]
        }
      ],
      "source": [
        "model = build_model()\n",
        "model.summary()"
      ]
    },
    {
      "cell_type": "markdown",
      "metadata": {
        "id": "GQ7Snl5Jx_tl"
      },
      "source": [
        "## Define Optimizer and Loss Functions"
      ]
    },
    {
      "cell_type": "markdown",
      "metadata": {
        "id": "EMFVhyy_yHbQ"
      },
      "source": [
        "### Create Optimizer"
      ]
    },
    {
      "cell_type": "code",
      "execution_count": null,
      "metadata": {
        "id": "wFg5RzCNx_Py",
        "vscode": {
          "languageId": "python"
        }
      },
      "outputs": [],
      "source": [
        "LEARNING_RATE = 0.0001\n",
        "\n",
        "optimizer = tf.keras.optimizers.Adam(learning_rate = LEARNING_RATE)"
      ]
    },
    {
      "cell_type": "markdown",
      "metadata": {
        "id": "hh5Ha_OLyTcZ"
      },
      "source": [
        "### Define Losses"
      ]
    },
    {
      "cell_type": "code",
      "execution_count": null,
      "metadata": {
        "id": "C3GEM2mV8XoK",
        "vscode": {
          "languageId": "python"
        }
      },
      "outputs": [],
      "source": [
        "def localization_loss(y, y_hat):            \n",
        "    delta_coord = tf.reduce_sum(tf.square(y[:, :2] - y_hat[:, :2]))\n",
        "    delta_size = tf.reduce_sum(\n",
        "        tf.square((y[:, 3] - y[:, 1]) - (y_hat[:, 3] - y_hat[:, 1])) + \n",
        "        tf.square((y[:, 2] - y[:, 0]) - (y_hat[:, 2] - y_hat[:, 0]))\n",
        "    )    \n",
        "    return delta_coord + delta_size"
      ]
    },
    {
      "cell_type": "code",
      "execution_count": null,
      "metadata": {
        "id": "a3XmUWaLymFT",
        "vscode": {
          "languageId": "python"
        }
      },
      "outputs": [],
      "source": [
        "clf_loss = tf.keras.losses.CategoricalCrossentropy()\n",
        "reg_loss = localization_loss"
      ]
    },
    {
      "cell_type": "markdown",
      "metadata": {
        "id": "MBk7gqPeC11H"
      },
      "source": [
        "## Define Custom Object Detection Model"
      ]
    },
    {
      "cell_type": "code",
      "execution_count": null,
      "metadata": {
        "id": "XSIfdX18C6KK",
        "vscode": {
          "languageId": "python"
        }
      },
      "outputs": [],
      "source": [
        "class ObjectDetector(tf.keras.Model):\n",
        "\n",
        "    def __init__(self, model, **kwargs) -> None:\n",
        "        super().__init__(**kwargs)\n",
        "        self.model = model\n",
        "\n",
        "    def compile(self, optimizer, clf_loss, reg_loss, **kwargs):\n",
        "        super().compile(**kwargs)\n",
        "        self.clf_loss = clf_loss\n",
        "        self.reg_loss = reg_loss\n",
        "        self.optimizer = optimizer\n",
        "\n",
        "    def train_step(self, batch, **kwargs):\n",
        "        x, y = batch\n",
        "        with tf.GradientTape() as tape:\n",
        "            y_hat = self.model(x, training = True)\n",
        "            batch_clf_loss, batch_reg_loss = self.get_losses(y, y_hat)\n",
        "            total_loss = 0.5*batch_clf_loss + batch_reg_loss\n",
        "            grad = tape.gradient(total_loss, self.model.trainable_variables)\n",
        "        self.optimizer.apply_gradients(\n",
        "            zip(grad, self.model.trainable_variables)\n",
        "        )\n",
        "        return {\n",
        "            'total_loss' : total_loss, \n",
        "            'batch_clf_loss' : batch_clf_loss, \n",
        "            'batch_reg_loss' : batch_reg_loss\n",
        "        }\n",
        "\n",
        "    def test_step(self, batch, **kwargs):\n",
        "        x, y = batch\n",
        "        y_hat = self.model(x, training = False)\n",
        "        batch_clf_loss, batch_reg_loss = self.get_losses(y, y_hat)\n",
        "        total_loss = 0.5*batch_clf_loss + batch_reg_loss\n",
        "        return {\n",
        "            'total_loss' : total_loss, \n",
        "            'batch_clf_loss' : batch_clf_loss, \n",
        "            'batch_reg_loss' : batch_reg_loss\n",
        "        }\n",
        "\n",
        "    def get_losses(self, y, y_hat):\n",
        "        return self.clf_loss(y[0], y_hat[0]), self.reg_loss(y[1], y_hat[1])\n",
        "\n",
        "    def call(self, x, **kwargs):\n",
        "        return self.model(x, **kwargs)"
      ]
    },
    {
      "cell_type": "markdown",
      "metadata": {
        "id": "jafbGWHqDOM1"
      },
      "source": [
        "## Train the Neural Network"
      ]
    },
    {
      "cell_type": "code",
      "execution_count": null,
      "metadata": {
        "id": "BOnnO7JbDIPI",
        "vscode": {
          "languageId": "python"
        }
      },
      "outputs": [],
      "source": [
        "model = build_model()\n",
        "\n",
        "object_detector = ObjectDetector(model)\n",
        "object_detector.compile(optimizer, clf_loss, reg_loss)"
      ]
    },
    {
      "cell_type": "code",
      "execution_count": null,
      "metadata": {
        "colab": {
          "base_uri": "https://localhost:8080/"
        },
        "id": "tRmza3d0DU89",
        "outputId": "62d0814a-2948-402a-dea4-37253527e75c",
        "vscode": {
          "languageId": "python"
        }
      },
      "outputs": [
        {
          "name": "stdout",
          "output_type": "stream",
          "text": [
            "Epoch 1/10\n",
            "250/250 - 3938s - total_loss: 1.8802 - batch_clf_loss: 3.4698 - batch_reg_loss: 0.1453 - val_total_loss: 1.6460 - val_batch_clf_loss: 1.9107 - val_batch_reg_loss: 0.6906 - 3938s/epoch - 16s/step\n",
            "Epoch 2/10\n",
            "250/250 - 3944s - total_loss: 0.4508 - batch_clf_loss: 0.7139 - batch_reg_loss: 0.0938 - val_total_loss: 1.0110 - val_batch_clf_loss: 0.8833 - val_batch_reg_loss: 0.5694 - 3944s/epoch - 16s/step\n",
            "Epoch 3/10\n",
            "250/250 - 3963s - total_loss: 0.8465 - batch_clf_loss: 0.7498 - batch_reg_loss: 0.4716 - val_total_loss: 1.9102 - val_batch_clf_loss: 2.8447 - val_batch_reg_loss: 0.4878 - 3963s/epoch - 16s/step\n",
            "Epoch 4/10\n",
            "250/250 - 3937s - total_loss: 0.4775 - batch_clf_loss: 0.9053 - batch_reg_loss: 0.0248 - val_total_loss: 0.6764 - val_batch_clf_loss: 0.0719 - val_batch_reg_loss: 0.6404 - 3937s/epoch - 16s/step\n",
            "Epoch 5/10\n",
            "250/250 - 3924s - total_loss: 0.0910 - batch_clf_loss: 0.0408 - batch_reg_loss: 0.0706 - val_total_loss: 1.1901 - val_batch_clf_loss: 0.5178 - val_batch_reg_loss: 0.9312 - 3924s/epoch - 16s/step\n",
            "Epoch 6/10\n",
            "250/250 - 3951s - total_loss: 0.4415 - batch_clf_loss: 0.6271 - batch_reg_loss: 0.1280 - val_total_loss: 1.5280 - val_batch_clf_loss: 2.1706 - val_batch_reg_loss: 0.4427 - 3951s/epoch - 16s/step\n",
            "Epoch 7/10\n",
            "250/250 - 3953s - total_loss: 0.2542 - batch_clf_loss: 0.4500 - batch_reg_loss: 0.0292 - val_total_loss: 0.2706 - val_batch_clf_loss: 0.2229 - val_batch_reg_loss: 0.1591 - 3953s/epoch - 16s/step\n",
            "Epoch 8/10\n",
            "250/250 - 3940s - total_loss: 0.0910 - batch_clf_loss: 0.0507 - batch_reg_loss: 0.0657 - val_total_loss: 0.2952 - val_batch_clf_loss: 0.2944 - val_batch_reg_loss: 0.1480 - 3940s/epoch - 16s/step\n",
            "Epoch 9/10\n",
            "250/250 - 3939s - total_loss: 0.1618 - batch_clf_loss: 0.1996 - batch_reg_loss: 0.0620 - val_total_loss: 0.8243 - val_batch_clf_loss: 0.6846 - val_batch_reg_loss: 0.4820 - 3939s/epoch - 16s/step\n",
            "Epoch 10/10\n",
            "250/250 - 3950s - total_loss: 0.1333 - batch_clf_loss: 0.1576 - batch_reg_loss: 0.0545 - val_total_loss: 0.2544 - val_batch_clf_loss: 0.3500 - val_batch_reg_loss: 0.0794 - 3950s/epoch - 16s/step\n"
          ]
        }
      ],
      "source": [
        "history = object_detector.fit(\n",
        "    train,\n",
        "    epochs = 10, \n",
        "    batch_size = BATCH_SIZE, \n",
        "    validation_data = val, \n",
        "    verbose = 2, \n",
        "    callbacks = [tf.keras.callbacks.TensorBoard(log_dir = 'logs')]\n",
        ")"
      ]
    },
    {
      "cell_type": "code",
      "execution_count": null,
      "metadata": {
        "colab": {
          "base_uri": "https://localhost:8080/"
        },
        "id": "1omjgjlrhivR",
        "outputId": "0f077f8d-509e-4c25-9042-7a8c30f9656e",
        "vscode": {
          "languageId": "python"
        }
      },
      "outputs": [
        {
          "name": "stderr",
          "output_type": "stream",
          "text": [
            "WARNING:tensorflow:Compiled the loaded model, but the compiled metrics have yet to be built. `model.compile_metrics` will be empty until you train or evaluate the model.\n"
          ]
        }
      ],
      "source": [
        "model.save(\"object_detection_model.h5\")"
      ]
    }
  ],
  "metadata": {
    "colab": {
      "machine_shape": "hm",
      "provenance": []
    },
    "gpuClass": "standard",
    "kernelspec": {
      "display_name": "Python 3",
      "name": "python3"
    }
  },
  "nbformat": 4,
  "nbformat_minor": 0
}
